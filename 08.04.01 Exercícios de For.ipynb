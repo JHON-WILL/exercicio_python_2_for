{
 "cells": [
  {
   "cell_type": "markdown",
   "metadata": {},
   "source": [
    "# Exercícios\n",
    "\n",
    "## 1. Criando um Registro de Hóspedes\n",
    "\n",
    "Digamos que você está criando o sistema para registrar a chegada de hóspedes em um hotel. No hotel, os hóspedes podem ter quartos com 1, 2, 3 e 4 pessoas. Seu sistema deve conseguir:\n",
    "\n",
    "1. Identificar quantas pessoas o hóspede que acabou de chegar vai ter no quarto (perguntando por meio de input)\n",
    "2. De acordo com a quantidade de pessoas do hóspede, ele deve fazer um for para perguntar o cpf e o nome de cada pessoa, a fim de registrá-la no quarto (2 inputs para cada pessoa, 1 para o cpf e outro para o nome)\n",
    "3. O seu programa então deve gerar uma lista com todas as pessoas que ficarão no quarto em que cada item dessa lista é o nome da pessoa e o cpf da pessoa, assim:"
   ]
  },
  {
   "cell_type": "raw",
   "metadata": {},
   "source": [
    "quarto = [\n",
    "    ['João', 'cpf:00000000000'],\n",
    "    ['Julia', 'cpf:11111111111'],\n",
    "    ['Marcus', 'cpf:22222222222'],\n",
    "    ['Maria', 'cpf:33333333333'],\n",
    "]"
   ]
  },
  {
   "cell_type": "markdown",
   "metadata": {},
   "source": [
    "- Para simplificar, não vamos nos preocupar com possibilidades de \"tentar colocar mais de 1 hóspede, digitar o cpf errado, etc. Nosso objetivo é treinar a criação de uma rotina de cadastro"
   ]
  },
  {
   "cell_type": "code",
   "execution_count": 1,
   "metadata": {},
   "outputs": [
    {
     "name": "stdout",
     "output_type": "stream",
     "text": [
      "Qual o numero de pessoas que irão se hospedar no quarto? 4\n",
      "Digite seu nome: jonathan\n",
      "digite seu cpf 12345678910\n",
      "['jonathan', '123.456.789-10']\n",
      "Digite seu nome: willian\n",
      "digite seu cpf 10987654321\n",
      "['willian', '109.876.543-21']\n",
      "Digite seu nome: oliveira\n",
      "digite seu cpf 14725836910\n",
      "['oliveira', '147.258.369-10']\n",
      "Digite seu nome: mello\n",
      "digite seu cpf 36925814710\n",
      "['mello', '369.258.147-10']\n"
     ]
    }
   ],
   "source": [
    "num_pessoas = int(input('Qual o numero de pessoas que irão se hospedar no quarto? '))\n",
    "\n",
    "if num_pessoas > 4:\n",
    "    print('O numero de hóspedes excede o numero maximo de pessoas por quarto')\n",
    "else:\n",
    "    for qntd in range(num_pessoas):\n",
    "        nome = input('Digite seu nome: ')\n",
    "        cpf = input('digite seu cpf ')\n",
    "        cpf = cpf.strip()\n",
    "        cpf = cpf.replace('.','')\n",
    "        cpf = cpf.replace(',','')\n",
    "        cpf = cpf.replace('-','')\n",
    "        cpf = cpf.replace('/','')\n",
    "        if cpf.isnumeric() and len(cpf) == 11:\n",
    "            cpf_a = '{}{}{}.{}{}{}.{}{}{}-{}{}'.format(*cpf)\n",
    "            quarto = [nome, cpf_a]\n",
    "            print(quarto)\n",
    "        else:\n",
    "            print('Digite corretamente o seu CPF')\n",
    "\n"
   ]
  },
  {
   "cell_type": "markdown",
   "metadata": {},
   "source": [
    "## 2. Análise de Vendas\n",
    "\n",
    "Nesse exercício vamos fazer uma \"análise simples\" de atingimento de Meta.\n",
    "\n",
    "Temos uma lista com os vendedores e os valores de vendas e queremos identificar (printar) quais os vendedores que bateram a meta e qual foi o valor que eles venderam."
   ]
  },
  {
   "cell_type": "code",
   "execution_count": 2,
   "metadata": {},
   "outputs": [
    {
     "name": "stdout",
     "output_type": "stream",
     "text": [
      "['João', 15000]\n",
      "['Julia', 27000]\n",
      "['Ana', 10300]\n"
     ]
    }
   ],
   "source": [
    "meta = 10000\n",
    "vendas = [\n",
    "    ['João', 15000],\n",
    "    ['Julia', 27000],\n",
    "    ['Marcus', 9900],\n",
    "    ['Maria', 3750],\n",
    "    ['Ana', 10300],\n",
    "    ['Alon', 7870],\n",
    "]\n",
    "\n",
    "for i in vendas:\n",
    "    if i[1] >= meta:\n",
    "        print(i)"
   ]
  },
  {
   "cell_type": "markdown",
   "metadata": {},
   "source": [
    "## 3. Comparação com Ano Anterior\n",
    "\n",
    "Digamos que você está analisando as vendas de produtos de um ecommerce e quer identificar quais produtos tiveram no ano de 2020 mais vendas do que no ano de 2019, para reportar isso para a diretoria.\n",
    "\n",
    "Sua resposta pode ser um print de cada produto, qual foi a venda de 2019, a venda de 2020 e o % de crescimento de 2020 para 2019.\n",
    "\n",
    "Lembrando, para calcular o % de crescimento de um produto de um ano para o outro, podemos fazer: (vendas_produto2020/vendas_produto2019 - 1)\n",
    "\n",
    "Dica: lembre do enumerate, ele pode facilitar seu \"for\""
   ]
  },
  {
   "cell_type": "code",
   "execution_count": 7,
   "metadata": {},
   "outputs": [
    {
     "name": "stdout",
     "output_type": "stream",
     "text": [
      "||———————————————————————————————————————————————————————————————————————————————————————————————————————————————————————————||\n",
      "||———————————————————————————————————————————————————————————————————————————————————————————————————————————————————————————||\n",
      "||                                              COMPARAÇÃO DE VENDAS 2019-2020                                               ||\n",
      "||———————————————————————————————————————————————————————————————————————————————————————————————————————————————————————————||\n",
      "||———————————————————————————————————————————————————————————————————————————————————————————————————————————————————————————||\n",
      "||     PRODUTO      ||              2019               ||              2020               ||  TAXA DE CRESCIMENTO DE VENDAS  ||\n",
      "||———————————————————————————————————————————————————————————————————————————————————————————————————————————————————————————||\n",
      "||      IPHONE      ||R$          558.147,00           ||R$          951,642,00           ||             70.50%              ||\n",
      "||        TV        ||R$          405.252,00           ||R$          787,604,00           ||             94.35%              ||\n",
      "|| MÁQUINA DE CAFÉ  ||R$          718.654,00           ||R$          867,660,00           ||             20.73%              ||\n",
      "||  NOTEBOOK DELL   ||R$          422.760,00           ||R$          694,913,00           ||             64.38%              ||\n",
      "||   NOTEBOOK HP    ||R$          154.753,00           ||R$          539,704,00           ||             248.75%             ||\n",
      "||MICROSOFT SURFACE ||R$          438.508,00           ||R$          667,179,00           ||             52.15%              ||\n",
      "||      WEBCAM      ||R$          237.467,00           ||R$          295,633,00           ||             24.49%              ||\n",
      "||   CAIXA DE SOM   ||R$          489.705,00           ||R$          725,316,00           ||             48.11%              ||\n",
      "||    MICROFONE     ||R$          328.311,00           ||R$          644,622,00           ||             96.34%              ||\n",
      "||   CÂMERA CANON   ||R$          591.120,00           ||R$          994,303,00           ||             68.21%              ||\n",
      "||———————————————————————————————————————————————————————————————————————————————————————————————————————————————————————————||\n",
      "||———————————————————————————————————————————————————————————————————————————————————————————————————————————————————————————||\n",
      "||     PRODUTO      ||              2019               ||              2020               ||  TAXA DE DECAIMENTO DE VENDAS   ||\n",
      "||———————————————————————————————————————————————————————————————————————————————————————————————————————————————————————————||\n",
      "||———————————————————————————————————————————————————————————————————————————————————————————————————————————————————————————||\n",
      "||      GALAXY      ||R$          712.350,00           ||R$          244,295,00           ||             -65.71%             ||\n",
      "||       IPAD       ||R$          573.823,00           ||R$           26,964,00           ||             -95.30%             ||\n",
      "||      KINDLE      ||R$          531.580,00           ||R$           78,830,00           ||             -85.17%             ||\n",
      "||    GELADEIRA     ||R$          973.139,00           ||R$          710,331,00           ||             -27.01%             ||\n",
      "||      ADEGA       ||R$          892.292,00           ||R$          646,016,00           ||             -27.60%             ||\n",
      "||  NOTEBOOK ASUS   ||R$          887.061,00           ||R$          324,831,00           ||             -63.38%             ||\n",
      "||———————————————————————————————————————————————————————————————————————————————————————————————————————————————————————————||\n",
      "||———————————————————————————————————————————————————————————————————————————————————————————————————————————————————————————||\n"
     ]
    }
   ],
   "source": [
    "produtos = ['iphone', 'galaxy', 'ipad', 'tv', 'máquina de café', 'kindle', 'geladeira', 'adega', 'notebook dell', 'notebook hp', 'notebook asus', 'microsoft surface', 'webcam', 'caixa de som', 'microfone', 'câmera canon']\n",
    "vendas2019 = [558147,712350,573823,405252,718654,531580,973139,892292,422760,154753,887061,438508,237467,489705,328311,591120]\n",
    "vendas2020 = [951642,244295,26964,787604,867660,78830,710331,646016,694913,539704,324831,667179,295633,725316,644622,994303]\n",
    "\n",
    "print('||' + '—'*123 + '||')\n",
    "print('||' + '—'*123 + '||')\n",
    "titulo = 'comparação de vendas 2019-2020'\n",
    "print('||{:^123}||'.format(titulo).upper())\n",
    "print('||' + '—'*123 + '||')\n",
    "print('||' + '—'*123 + '||')\n",
    "subtitulo1 = 'produto'\n",
    "subtitulo2 = '2019'\n",
    "subtitulo3 = '2020'\n",
    "subtitulo4 = 'taxa de crescimento de vendas'\n",
    "subtitulo5 = 'taxa de decaimento de vendas'\n",
    "print('||{:^18}|'.format(subtitulo1).upper() + '|{:^33}|'.format(subtitulo2) + '|{:^33}|'.format(subtitulo3) + '|{:^33}||'.format(subtitulo4).upper())\n",
    "print('||' + '—'*123 + '||')\n",
    "for a, produto in enumerate(produtos):\n",
    "    if vendas2019[a] < vendas2020[a]:\n",
    "        taxa = (vendas2020[a] / vendas2019[a] - 1)\n",
    "        print('||{:^18}|'.format(produto).upper() + '|R${:^31_.2f}|'.format(vendas2019[a]).replace('.', ',').replace('_', '.') + '|R${:^31,.2f}|'.format(vendas2020[a]).replace('.', ',').replace('_', '.') + '|{:^33.2%}||'.format(taxa))\n",
    "    \n",
    "print('||' + '—'*123 + '||')\n",
    "print('||' + '—'*123 + '||')\n",
    "print('||{:^18}|'.format(subtitulo1).upper() + '|{:^33}|'.format(subtitulo2) + '|{:^33}|'.format(subtitulo3) + '|{:^33}||'.format(subtitulo5).upper())\n",
    "print('||' + '—'*123 + '||')\n",
    "print('||' + '—'*123 + '||')\n",
    "\n",
    "for a, produto in enumerate(produtos):\n",
    "    if vendas2019[a] > vendas2020[a]:\n",
    "        taxa = (vendas2020[a] / vendas2019[a] - 1)\n",
    "        print('||{:^18}|'.format(produto).upper() + '|R${:^31_.2f}|'.format(vendas2019[a]).replace('.', ',').replace('_', '.') + '|R${:^31,.2f}|'.format(vendas2020[a]).replace('.', ',').replace('_', '.') + '|{:^33.2%}||'.format(taxa))\n",
    "\n",
    "print('||' + '—'*123 + '||')\n",
    "print('||' + '—'*123 + '||')\n"
   ]
  },
  {
   "cell_type": "code",
   "execution_count": null,
   "metadata": {},
   "outputs": [],
   "source": []
  }
 ],
 "metadata": {
  "kernelspec": {
   "display_name": "Python 3 (ipykernel)",
   "language": "python",
   "name": "python3"
  },
  "language_info": {
   "codemirror_mode": {
    "name": "ipython",
    "version": 3
   },
   "file_extension": ".py",
   "mimetype": "text/x-python",
   "name": "python",
   "nbconvert_exporter": "python",
   "pygments_lexer": "ipython3",
   "version": "3.9.7"
  }
 },
 "nbformat": 4,
 "nbformat_minor": 4
}
