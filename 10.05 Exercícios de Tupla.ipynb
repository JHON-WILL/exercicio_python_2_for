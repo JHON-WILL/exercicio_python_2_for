{
 "cells": [
  {
   "cell_type": "markdown",
   "metadata": {},
   "source": [
    "# Exercícios\n",
    "\n",
    "São exercícios bem parecidos com os que fizemos com listas. Mas na tupla, podemos não só trabalhar com índices, mas fazer o \"unpacking\" das tuplas, o que pode facilitar nossos códigos.\n",
    "\n",
    "## 1. Análise de Vendas\n",
    "\n",
    "Nesse exercício vamos fazer uma \"análise simples\" de atingimento de Meta.\n",
    "\n",
    "Temos uma lista com os vendedores e os valores de vendas e queremos identificar (printar) quais os vendedores que bateram a meta e qual foi o valor que eles venderam."
   ]
  },
  {
   "cell_type": "code",
   "execution_count": 13,
   "metadata": {},
   "outputs": [
    {
     "name": "stdout",
     "output_type": "stream",
     "text": [
      "O vendedor João bateu a meta de vendas com R$15.000,00\n",
      "O vendedor Julia bateu a meta de vendas com R$27.000,00\n",
      "O vendedor Ana bateu a meta de vendas com R$10.300,00\n"
     ]
    }
   ],
   "source": [
    "meta = 10000\n",
    "vendas = [\n",
    "    ('João', 15000),\n",
    "    ('Julia', 27000),\n",
    "    ('Marcus', 9900),\n",
    "    ('Maria', 3750),\n",
    "    ('Ana', 10300),\n",
    "    ('Alon', 7870),\n",
    "]\n",
    "\n",
    "vendendor = ''\n",
    "venda = 0\n",
    "\n",
    "for vendedor, venda in vendas:\n",
    "    if venda >= meta:\n",
    "        print('O vendedor {} bateu a meta de vendas com R${:_.2f}'.format(vendedor, venda).replace('.', ',').replace('_','.'))"
   ]
  },
  {
   "cell_type": "markdown",
   "metadata": {},
   "source": [
    "## 2. Comparação com Ano Anterior\n",
    "\n",
    "Digamos que você está analisando as vendas de produtos de um ecommerce e quer identificar quais produtos tiveram no ano de 2020 mais vendas do que no ano de 2019, para reportar isso para a diretoria.\n",
    "\n",
    "Sua resposta pode ser um print de cada produto, qual foi a venda de 2019, a venda de 2020 e o % de crescimento de 2020 para 2019.\n",
    "\n",
    "Lembrando, para calcular o % de crescimento de um produto de um ano para o outro, podemos fazer: (vendas_produto2020/vendas_produto2019 - 1)\n",
    "\n",
    "A lógica da tupla é: (produto, vendas2019, vendas2020)"
   ]
  },
  {
   "cell_type": "code",
   "execution_count": 51,
   "metadata": {},
   "outputs": [
    {
     "name": "stdout",
     "output_type": "stream",
     "text": [
      "||———————————————————————————————————————————————————————————————————————————————————————————————————————————————————————————||\n",
      "||                                             TABELA DE COMPARAÇÃO DE PRODUTOS                                              ||\n",
      "||———————————————————————————————————————————————————————————————————————————————————————————————————————————————————————————||\n",
      "||                                                     VENDAS POSITIVAS                                                      ||\n",
      "||———————————————————————————————————————————————————————————————————————————————————————————————————————————————————————————||\n",
      "||     PRODUTO      ||              2019               ||              2020               ||  TAXA DE CRESCIMENTO DE VENDAS  ||\n",
      "||———————————————————————————————————————————————————————————————————————————————————————————————————————————————————————————||\n",
      "||      IPHONE      ||R$          558.147,00           ||R$          951,642,00           ||             70.50%              ||\n",
      "||        TV        ||R$          405.252,00           ||R$          787,604,00           ||             94.35%              ||\n",
      "|| MÁQUINA DE CAFÉ  ||R$          718.654,00           ||R$          867,660,00           ||             20.73%              ||\n",
      "||  NOTEBOOK DELL   ||R$          422.760,00           ||R$          694,913,00           ||             64.38%              ||\n",
      "||   NOTEBOOK HP    ||R$          154.753,00           ||R$          539,704,00           ||             248.75%             ||\n",
      "||MICROSOFT SURFACE ||R$          438.508,00           ||R$          667,179,00           ||             52.15%              ||\n",
      "||      WEBCAM      ||R$          237.467,00           ||R$          295,633,00           ||             24.49%              ||\n",
      "||   CAIXA DE SOM   ||R$          489.705,00           ||R$          725,316,00           ||             48.11%              ||\n",
      "||    MICROFONE     ||R$          328.311,00           ||R$          644,622,00           ||             96.34%              ||\n",
      "||   CÂMERA CANON   ||R$          591.120,00           ||R$          994,303,00           ||             68.21%              ||\n",
      "||———————————————————————————————————————————————————————————————————————————————————————————————————————————————————————————||\n",
      "||                                                     VENDAS NEGATIVAS                                                      ||\n",
      "||———————————————————————————————————————————————————————————————————————————————————————————————————————————————————————————||\n",
      "||     PRODUTO      ||              2019               ||              2020               ||  TAXA DE DECAIMENTO DE VENDAS   ||\n",
      "||———————————————————————————————————————————————————————————————————————————————————————————————————————————————————————————||\n",
      "||      GALAXY      ||R$          712.350,00           ||R$          244,295,00           ||             -65.71%             ||\n",
      "||       IPAD       ||R$          573.823,00           ||R$           26,964,00           ||             -95.30%             ||\n",
      "||      KINDLE      ||R$          531.580,00           ||R$           78,830,00           ||             -85.17%             ||\n",
      "||    GELADEIRA     ||R$          973.139,00           ||R$          710,331,00           ||             -27.01%             ||\n",
      "||      ADEGA       ||R$          892.292,00           ||R$          646,016,00           ||             -27.60%             ||\n",
      "||  NOTEBOOK ASUS   ||R$          887.061,00           ||R$          324,831,00           ||             -63.38%             ||\n",
      "||———————————————————————————————————————————————————————————————————————————————————————————————————————————————————————————||\n",
      "||———————————————————————————————————————————————————————————————————————————————————————————————————————————————————————————||\n"
     ]
    }
   ],
   "source": [
    "vendas_produtos = [('iphone', 558147, 951642), ('galaxy', 712350, 244295), ('ipad', 573823, 26964), ('tv', 405252, 787604), ('máquina de café', 718654, 867660), ('kindle', 531580, 78830), ('geladeira', 973139, 710331), ('adega', 892292, 646016), ('notebook dell', 422760, 694913), ('notebook hp', 154753, 539704), ('notebook asus', 887061, 324831), ('microsoft surface', 438508, 667179), ('webcam', 237467, 295633), ('caixa de som', 489705, 725316), ('microfone', 328311, 644622), ('câmera canon', 591120, 994303)]\n",
    "\n",
    "#seu código aqui\n",
    "titulo = 'tabela de comparação de produtos'\n",
    "titulo2 = 'vendas positivas'\n",
    "titulo3 = 'vendas negativas'\n",
    "print('||' + '—'*123 + '||')\n",
    "print('||{:^123}||'.format(titulo).upper())\n",
    "print('||' + '—'*123 + '||')\n",
    "print('||{:^123}||'.format(titulo2).upper())\n",
    "print('||' + '—'*123 + '||')\n",
    "subtitulo1 = 'produto'\n",
    "subtitulo2 = '2019'\n",
    "subtitulo3 = '2020'\n",
    "subtitulo4 = 'taxa de crescimento de vendas'\n",
    "subtitulo5 = 'taxa de decaimento de vendas'\n",
    "print('||{:^18}|'.format(subtitulo1).upper() + '|{:^33}|'.format(subtitulo2) + '|{:^33}|'.format(subtitulo3) + '|{:^33}||'.format(subtitulo4).upper())\n",
    "print('||' + '—'*123 + '||')\n",
    "for produto, venda2019, venda2020 in vendas_produtos:\n",
    "    if venda2020 >= venda2019:\n",
    "        taxa = (venda2020/venda2019 - 1)\n",
    "        print('||{:^18}|'.format(produto).upper() + '|R${:^31_.2f}|'.format(venda2019).replace('.', ',').replace('_', '.') + '|R${:^31,.2f}|'.format(venda2020).replace('.', ',').replace('_', '.') + '|{:^33.2%}||'.format(taxa))\n",
    "print('||' + '—'*123 + '||')\n",
    "print('||{:^123}||'.format(titulo3).upper())\n",
    "print('||' + '—'*123 + '||')\n",
    "print('||{:^18}|'.format(subtitulo1).upper() + '|{:^33}|'.format(subtitulo2) + '|{:^33}|'.format(subtitulo3) + '|{:^33}||'.format(subtitulo5).upper())\n",
    "print('||' + '—'*123 + '||')\n",
    "for produto, venda2019, venda2020 in vendas_produtos:\n",
    "    if venda2020 <= venda2019:\n",
    "        taxa = (venda2020/venda2019 - 1)\n",
    "        print('||{:^18}|'.format(produto).upper() + '|R${:^31_.2f}|'.format(venda2019).replace('.', ',').replace('_', '.') + '|R${:^31,.2f}|'.format(venda2020).replace('.', ',').replace('_', '.') + '|{:^33.2%}||'.format(taxa))\n",
    "print('||' + '—'*123 + '||')\n",
    "print('||' + '—'*123 + '||')"
   ]
  },
  {
   "cell_type": "code",
   "execution_count": null,
   "metadata": {},
   "outputs": [],
   "source": []
  }
 ],
 "metadata": {
  "kernelspec": {
   "display_name": "Python 3 (ipykernel)",
   "language": "python",
   "name": "python3"
  },
  "language_info": {
   "codemirror_mode": {
    "name": "ipython",
    "version": 3
   },
   "file_extension": ".py",
   "mimetype": "text/x-python",
   "name": "python",
   "nbconvert_exporter": "python",
   "pygments_lexer": "ipython3",
   "version": "3.9.7"
  }
 },
 "nbformat": 4,
 "nbformat_minor": 4
}
